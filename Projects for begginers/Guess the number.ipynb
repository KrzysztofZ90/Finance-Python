{
 "cells": [
  {
   "cell_type": "code",
   "execution_count": 46,
   "metadata": {},
   "outputs": [
    {
     "name": "stdout",
     "output_type": "stream",
     "text": [
      "You have to guess the number between 1 and 50: 50\n",
      "Number is lower\n",
      "30\n",
      "Number is higher\n",
      "35\n",
      "Number is higher\n",
      "40\n",
      "Number is higher\n",
      "42\n",
      "Number is higher\n",
      "43\n",
      "Number is higher\n",
      "44\n",
      "Number is higher\n",
      "45\n",
      "Number is higher\n",
      "46\n",
      "Number is higher\n",
      "47\n",
      "Number is higher\n",
      "48\n",
      "Number is higher\n",
      "49\n",
      "Congratulation u find the correct number!:  49\n",
      "You attempts:  11\n"
     ]
    }
   ],
   "source": [
    "import random\n",
    "number = random.randrange(1,50)\n",
    "counter = 0\n",
    "guess = int(input('You have to guess the number between 1 and 50: '))\n",
    "\n",
    "#guess counter + loop\n",
    "\n",
    "while guess != number:\n",
    "    counter += 1\n",
    "    if guess < number:\n",
    "        print('Number is higher')\n",
    "        guess = int(input())\n",
    "    else:\n",
    "        print('Number is lower')\n",
    "        guess = int(input())\n",
    "        \n",
    "####################################\n",
    "print('Congratulation u find the correct number!: ',guess)\n",
    "print('Your attempts: ',counter)\n",
    "\n",
    "\n"
   ]
  },
  {
   "cell_type": "code",
   "execution_count": 33,
   "metadata": {},
   "outputs": [
    {
     "data": {
      "text/plain": [
       "10"
      ]
     },
     "execution_count": 33,
     "metadata": {},
     "output_type": "execute_result"
    }
   ],
   "source": []
  },
  {
   "cell_type": "code",
   "execution_count": null,
   "metadata": {},
   "outputs": [],
   "source": []
  },
  {
   "cell_type": "code",
   "execution_count": null,
   "metadata": {},
   "outputs": [],
   "source": []
  }
 ],
 "metadata": {
  "kernelspec": {
   "display_name": "Python 3",
   "language": "python",
   "name": "python3"
  },
  "language_info": {
   "codemirror_mode": {
    "name": "ipython",
    "version": 3
   },
   "file_extension": ".py",
   "mimetype": "text/x-python",
   "name": "python",
   "nbconvert_exporter": "python",
   "pygments_lexer": "ipython3",
   "version": "3.7.6"
  }
 },
 "nbformat": 4,
 "nbformat_minor": 4
}
